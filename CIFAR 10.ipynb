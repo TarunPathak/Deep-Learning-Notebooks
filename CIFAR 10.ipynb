{
 "cells": [
  {
   "cell_type": "code",
   "execution_count": 34,
   "id": "painful-eight",
   "metadata": {},
   "outputs": [],
   "source": [
    "#importing packages\n",
    "from tensorflow import keras\n",
    "from tensorflow.keras import layers\n",
    "from tensorflow.keras.applications import ResNet50\n",
    "from sklearn.model_selection import train_test_split\n",
    "import matplotlib.pyplot as plt, itertools, pandas as pd, numpy as np"
   ]
  },
  {
   "cell_type": "code",
   "execution_count": 35,
   "id": "empty-canberra",
   "metadata": {},
   "outputs": [],
   "source": [
    "#loading dataset\n",
    "cf10 = keras.datasets.cifar10\n",
    "(train_X, train_Y), (test_X, test_Y) = cf10.load_data()"
   ]
  },
  {
   "cell_type": "code",
   "execution_count": 36,
   "id": "deluxe-september",
   "metadata": {},
   "outputs": [
    {
     "name": "stdout",
     "output_type": "stream",
     "text": [
      "Training Data - (42500, 32, 32, 3)\n",
      "Validation Data - (7500, 32, 32, 3)\n",
      "Test Data - (10000, 32, 32, 3)\n"
     ]
    }
   ],
   "source": [
    "#splitting training data into train & validation set\n",
    "#15% reserved for validation\n",
    "train_X, val_X, train_Y, val_Y = train_test_split(\n",
    "    train_X, train_Y, test_size=0.15, stratify=train_Y, random_state=10)\n",
    "\n",
    "#displaying data shapes\n",
    "print(f'Training Data - {train_X.shape}')\n",
    "print(f'Validation Data - {val_X.shape}')\n",
    "print(f'Test Data - {test_X.shape}')"
   ]
  },
  {
   "cell_type": "code",
   "execution_count": 37,
   "id": "modular-oliver",
   "metadata": {},
   "outputs": [],
   "source": [
    "#class labels\n",
    "labels = {0:'Airplane',\n",
    "         1:'Automobile',\n",
    "         2:'Bird',\n",
    "         3:'Cat',\n",
    "         4:'Deer',\n",
    "         5:'Dog',\n",
    "         6:'Frog',\n",
    "         7:'Horse',\n",
    "         8:'Ship',\n",
    "         9:'Truck'}"
   ]
  },
  {
   "cell_type": "code",
   "execution_count": 38,
   "id": "deluxe-victorian",
   "metadata": {},
   "outputs": [
    {
     "data": {
      "image/png": "[encoded data removed]",
      "text/plain": [
       "<Figure size 432x288 with 1 Axes>"
      ]
     },
     "metadata": {
      "needs_background": "light"
     },
     "output_type": "display_data"
    },
    {
     "name": "stdout",
     "output_type": "stream",
     "text": [
      "The label is - Cat\n"
     ]
    }
   ],
   "source": [
    "#displaying random sample\n",
    "plt.figure()\n",
    "plt.imshow(train_X[15])\n",
    "plt.show()\n",
    "print(f'The label is - {labels[train_Y[15][0]]}')"
   ]
  },
  {
   "cell_type": "code",
   "execution_count": 39,
   "id": "fluid-reggae",
   "metadata": {},
   "outputs": [],
   "source": [
    "#creating network\n",
    "#using InceptionV3 as base layer - Transfer learning\n",
    "\n",
    "resnet = ResNet50(include_top=False, #loading model without classification layer\n",
    "                    input_shape=(32,32,3)#same as shape for CIFAR dataset\n",
    "                )\n",
    "\n",
    "model = keras.Sequential([\n",
    "    resnet,\n",
    "    #layers.Flatten(),\n",
    "    layers.GlobalAvgPool2D(),\n",
    "    layers.Dense(units= 25, activation= 'relu'),\n",
    "    layers.Dense(units=10), # same as num classes\n",
    "    layers.Softmax() # to convert vector output to class probabilities\n",
    "])\n",
    "\n",
    "\n",
    "#compiling model\n",
    "#we use SparseCategoricalCrossentropy as classes are in integers\n",
    "model.compile(optimizer='adam', loss=keras.losses.SparseCategoricalCrossentropy(from_logits=True),\n",
    "             metrics = ['accuracy'])\n",
    "\n",
    "#early stopping\n",
    "early_stopping = keras.callbacks.EarlyStopping(patience=15, min_delta=0.01, restore_best_weights=True)"
   ]
  },
  {
   "cell_type": "code",
   "execution_count": 40,
   "id": "consolidated-cricket",
   "metadata": {},
   "outputs": [
    {
     "name": "stdout",
     "output_type": "stream",
     "text": [
      "Train on 42500 samples, validate on 7500 samples\n",
      "Epoch 1/100\n",
      "42500/42500 [==============================] - 34s 795us/sample - loss: 2.0514 - accuracy: 0.4077 - val_loss: 2.1432 - val_accuracy: 0.3168\n",
      "Epoch 2/100\n",
      "42500/42500 [==============================] - 28s 665us/sample - loss: 2.0041 - accuracy: 0.4543 - val_loss: 2.2680 - val_accuracy: 0.1920\n",
      "Epoch 3/100\n",
      "42500/42500 [==============================] - 28s 669us/sample - loss: 1.9336 - accuracy: 0.5249 - val_loss: 2.1151 - val_accuracy: 0.3439\n",
      "Epoch 4/100\n",
      "42500/42500 [==============================] - 28s 668us/sample - loss: 1.8895 - accuracy: 0.5696 - val_loss: 1.9952 - val_accuracy: 0.4639\n",
      "Epoch 5/100\n",
      "42500/42500 [==============================] - 28s 666us/sample - loss: 1.8733 - accuracy: 0.5859 - val_loss: 2.1476 - val_accuracy: 0.3107\n",
      "Epoch 6/100\n",
      "42500/42500 [==============================] - 28s 668us/sample - loss: 1.8562 - accuracy: 0.6042 - val_loss: 2.2110 - val_accuracy: 0.2481\n",
      "Epoch 7/100\n",
      "42500/42500 [==============================] - 29s 671us/sample - loss: 1.8281 - accuracy: 0.6310 - val_loss: 1.9628 - val_accuracy: 0.4961\n",
      "Epoch 8/100\n",
      "42500/42500 [==============================] - 29s 671us/sample - loss: 1.8065 - accuracy: 0.6534 - val_loss: 1.9077 - val_accuracy: 0.5516\n",
      "Epoch 9/100\n",
      "42500/42500 [==============================] - 28s 668us/sample - loss: 1.7941 - accuracy: 0.6659 - val_loss: 1.9188 - val_accuracy: 0.5412\n",
      "Epoch 10/100\n",
      "42500/42500 [==============================] - 28s 668us/sample - loss: 1.7982 - accuracy: 0.6616 - val_loss: 1.9474 - val_accuracy: 0.5100\n",
      "Epoch 11/100\n",
      "42500/42500 [==============================] - 29s 671us/sample - loss: 1.7931 - accuracy: 0.6665 - val_loss: 1.8688 - val_accuracy: 0.5899\n",
      "Epoch 12/100\n",
      "42500/42500 [==============================] - 28s 668us/sample - loss: 1.7797 - accuracy: 0.6802 - val_loss: 1.8877 - val_accuracy: 0.5711\n",
      "Epoch 13/100\n",
      "42500/42500 [==============================] - 29s 676us/sample - loss: 1.7690 - accuracy: 0.6907 - val_loss: 1.9265 - val_accuracy: 0.5327\n",
      "Epoch 14/100\n",
      "42500/42500 [==============================] - 29s 674us/sample - loss: 1.7579 - accuracy: 0.7022 - val_loss: 1.9934 - val_accuracy: 0.4655\n",
      "Epoch 15/100\n",
      "42500/42500 [==============================] - 29s 678us/sample - loss: 1.7578 - accuracy: 0.7018 - val_loss: 1.9360 - val_accuracy: 0.5229\n",
      "Epoch 16/100\n",
      "42500/42500 [==============================] - 29s 680us/sample - loss: 1.7536 - accuracy: 0.7061 - val_loss: 2.0585 - val_accuracy: 0.3999\n",
      "Epoch 17/100\n",
      "42500/42500 [==============================] - 29s 685us/sample - loss: 1.7411 - accuracy: 0.7190 - val_loss: 1.8085 - val_accuracy: 0.6512\n",
      "Epoch 18/100\n",
      "42500/42500 [==============================] - 29s 678us/sample - loss: 1.7430 - accuracy: 0.7176 - val_loss: 1.8582 - val_accuracy: 0.6011\n",
      "Epoch 19/100\n",
      "42500/42500 [==============================] - 29s 672us/sample - loss: 1.7460 - accuracy: 0.7140 - val_loss: 1.8141 - val_accuracy: 0.6467\n",
      "Epoch 20/100\n",
      "42500/42500 [==============================] - 29s 672us/sample - loss: 1.7348 - accuracy: 0.7253 - val_loss: 1.8463 - val_accuracy: 0.6116\n",
      "Epoch 21/100\n",
      "42500/42500 [==============================] - 29s 678us/sample - loss: 1.7222 - accuracy: 0.7380 - val_loss: 1.8701 - val_accuracy: 0.5895\n",
      "Epoch 22/100\n",
      "42500/42500 [==============================] - 29s 675us/sample - loss: 1.7142 - accuracy: 0.7463 - val_loss: 1.8711 - val_accuracy: 0.5883\n",
      "Epoch 23/100\n",
      "42500/42500 [==============================] - 29s 675us/sample - loss: 1.7100 - accuracy: 0.7508 - val_loss: 2.0466 - val_accuracy: 0.4132\n",
      "Epoch 24/100\n",
      "42500/42500 [==============================] - 29s 686us/sample - loss: 1.7129 - accuracy: 0.7475 - val_loss: 1.9272 - val_accuracy: 0.5323\n",
      "Epoch 25/100\n",
      "42500/42500 [==============================] - 29s 674us/sample - loss: 1.7172 - accuracy: 0.7433 - val_loss: 1.7913 - val_accuracy: 0.6681\n",
      "Epoch 26/100\n",
      "42500/42500 [==============================] - 29s 681us/sample - loss: 1.7113 - accuracy: 0.7490 - val_loss: 1.7939 - val_accuracy: 0.6664\n",
      "Epoch 27/100\n",
      "42500/42500 [==============================] - 29s 679us/sample - loss: 1.7038 - accuracy: 0.7563 - val_loss: 1.7985 - val_accuracy: 0.6612\n",
      "Epoch 28/100\n",
      "42500/42500 [==============================] - 29s 679us/sample - loss: 1.7012 - accuracy: 0.7592 - val_loss: 1.8309 - val_accuracy: 0.6288\n",
      "Epoch 29/100\n",
      "42500/42500 [==============================] - 29s 682us/sample - loss: 1.6941 - accuracy: 0.7663 - val_loss: 1.7673 - val_accuracy: 0.6912\n",
      "Epoch 30/100\n",
      "42500/42500 [==============================] - 29s 679us/sample - loss: 1.6873 - accuracy: 0.7730 - val_loss: 1.8019 - val_accuracy: 0.6584\n",
      "Epoch 31/100\n",
      "42500/42500 [==============================] - 29s 686us/sample - loss: 1.6889 - accuracy: 0.7719 - val_loss: 1.8495 - val_accuracy: 0.6108\n",
      "Epoch 32/100\n",
      "42500/42500 [==============================] - 29s 688us/sample - loss: 1.6918 - accuracy: 0.7683 - val_loss: 1.7812 - val_accuracy: 0.6775\n",
      "Epoch 33/100\n",
      "42500/42500 [==============================] - 29s 692us/sample - loss: 1.6875 - accuracy: 0.7728 - val_loss: 1.8535 - val_accuracy: 0.6057\n",
      "Epoch 34/100\n",
      "42500/42500 [==============================] - 29s 686us/sample - loss: 1.6802 - accuracy: 0.7805 - val_loss: 1.8186 - val_accuracy: 0.6411\n",
      "Epoch 35/100\n",
      "42500/42500 [==============================] - 29s 685us/sample - loss: 1.6765 - accuracy: 0.7840 - val_loss: 1.7403 - val_accuracy: 0.7193\n",
      "Epoch 36/100\n",
      "42500/42500 [==============================] - 29s 683us/sample - loss: 1.6782 - accuracy: 0.7824 - val_loss: 1.7772 - val_accuracy: 0.6821\n",
      "Epoch 37/100\n",
      "42500/42500 [==============================] - 29s 683us/sample - loss: 1.6747 - accuracy: 0.7861 - val_loss: 1.7816 - val_accuracy: 0.6796\n",
      "Epoch 38/100\n",
      "42500/42500 [==============================] - 29s 682us/sample - loss: 1.6748 - accuracy: 0.7857 - val_loss: 1.9330 - val_accuracy: 0.5264\n",
      "Epoch 39/100\n",
      "42500/42500 [==============================] - 29s 683us/sample - loss: 1.6664 - accuracy: 0.7948 - val_loss: 1.8370 - val_accuracy: 0.6233\n",
      "Epoch 40/100\n",
      "42500/42500 [==============================] - 29s 682us/sample - loss: 1.6637 - accuracy: 0.7972 - val_loss: 2.0753 - val_accuracy: 0.3845\n",
      "Epoch 41/100\n",
      "42500/42500 [==============================] - 29s 683us/sample - loss: 1.6620 - accuracy: 0.7984 - val_loss: 1.8269 - val_accuracy: 0.6331\n",
      "Epoch 42/100\n",
      "42500/42500 [==============================] - 29s 682us/sample - loss: 1.6614 - accuracy: 0.7993 - val_loss: 1.8494 - val_accuracy: 0.6100\n",
      "Epoch 43/100\n",
      "42500/42500 [==============================] - 29s 685us/sample - loss: 1.6553 - accuracy: 0.8052 - val_loss: 1.7240 - val_accuracy: 0.7360\n",
      "Epoch 44/100\n",
      "42500/42500 [==============================] - 29s 681us/sample - loss: 1.6573 - accuracy: 0.8032 - val_loss: 1.7989 - val_accuracy: 0.6615\n",
      "Epoch 45/100\n",
      "42500/42500 [==============================] - 29s 681us/sample - loss: 1.6599 - accuracy: 0.8007 - val_loss: 1.8756 - val_accuracy: 0.5844\n",
      "Epoch 46/100\n",
      "42500/42500 [==============================] - 29s 682us/sample - loss: 1.6549 - accuracy: 0.8057 - val_loss: 1.7383 - val_accuracy: 0.7217\n",
      "Epoch 47/100\n",
      "42500/42500 [==============================] - 29s 682us/sample - loss: 1.6494 - accuracy: 0.8113 - val_loss: 1.7600 - val_accuracy: 0.6992\n",
      "Epoch 48/100\n",
      "42500/42500 [==============================] - 29s 681us/sample - loss: 1.6490 - accuracy: 0.8118 - val_loss: 1.7507 - val_accuracy: 0.7093\n",
      "Epoch 49/100\n",
      "42500/42500 [==============================] - 29s 679us/sample - loss: 1.6439 - accuracy: 0.8171 - val_loss: 1.8440 - val_accuracy: 0.6149\n",
      "Epoch 50/100\n",
      "42500/42500 [==============================] - 29s 673us/sample - loss: 1.6575 - accuracy: 0.8031 - val_loss: 1.7844 - val_accuracy: 0.6752\n",
      "Epoch 51/100\n",
      "42500/42500 [==============================] - 29s 673us/sample - loss: 1.6472 - accuracy: 0.8134 - val_loss: 1.7615 - val_accuracy: 0.6973\n",
      "Epoch 52/100\n",
      "42500/42500 [==============================] - 29s 673us/sample - loss: 1.6441 - accuracy: 0.8164 - val_loss: 1.7736 - val_accuracy: 0.6860\n",
      "Epoch 53/100\n",
      "42500/42500 [==============================] - 29s 673us/sample - loss: 1.6358 - accuracy: 0.8247 - val_loss: 1.8428 - val_accuracy: 0.6176\n",
      "Epoch 54/100\n"
     ]
    },
    {
     "name": "stdout",
     "output_type": "stream",
     "text": [
      "42500/42500 [==============================] - 29s 672us/sample - loss: 1.6316 - accuracy: 0.8291 - val_loss: 1.8394 - val_accuracy: 0.6207\n",
      "Epoch 55/100\n",
      "42500/42500 [==============================] - 29s 673us/sample - loss: 1.6411 - accuracy: 0.8195 - val_loss: 1.7693 - val_accuracy: 0.6907\n",
      "Epoch 56/100\n",
      "42500/42500 [==============================] - 29s 673us/sample - loss: 1.6361 - accuracy: 0.8245 - val_loss: 1.7644 - val_accuracy: 0.6953\n",
      "Epoch 57/100\n",
      "42500/42500 [==============================] - 29s 672us/sample - loss: 1.6321 - accuracy: 0.8286 - val_loss: 1.7466 - val_accuracy: 0.7133\n",
      "Epoch 58/100\n",
      "42500/42500 [==============================] - 29s 674us/sample - loss: 1.6351 - accuracy: 0.8256 - val_loss: 1.7921 - val_accuracy: 0.6676\n"
     ]
    }
   ],
   "source": [
    "#training model\n",
    "history = model.fit(\n",
    "    train_X, train_Y,\n",
    "    validation_data=(val_X, val_Y),\n",
    "    batch_size=150,\n",
    "    epochs=100,\n",
    "    callbacks = [early_stopping]\n",
    ")"
   ]
  },
  {
   "cell_type": "code",
   "execution_count": 41,
   "id": "multiple-johnston",
   "metadata": {},
   "outputs": [
    {
     "name": "stdout",
     "output_type": "stream",
     "text": [
      "Minimum validation loss: 1.7239536142349243\n"
     ]
    },
    {
     "data": {
      "image/png": "[encoded data removed]",
      "text/plain": [
       "<Figure size 432x288 with 1 Axes>"
      ]
     },
     "metadata": {
      "needs_background": "light"
     },
     "output_type": "display_data"
    }
   ],
   "source": [
    "#learning curves\n",
    "history_df = pd.DataFrame(history.history)\n",
    "history_df.loc[:, ['loss', 'val_loss']].plot();\n",
    "print(\"Minimum validation loss: {}\".format(history_df['val_loss'].min()))"
   ]
  },
  {
   "cell_type": "code",
   "execution_count": 42,
   "id": "major-philadelphia",
   "metadata": {},
   "outputs": [
    {
     "data": {
      "image/png": "[encoded data removed]",
      "text/plain": [
       "<Figure size 432x288 with 1 Axes>"
      ]
     },
     "metadata": {
      "needs_background": "light"
     },
     "output_type": "display_data"
    },
    {
     "name": "stdout",
     "output_type": "stream",
     "text": [
      "The label is - Frog\n",
      "Model predicted - Frog\n"
     ]
    }
   ],
   "source": [
    "#predictions\n",
    "preds = model.predict(test_X)\n",
    "\n",
    "#checking random prediction\n",
    "plt.figure()\n",
    "plt.imshow(test_X[5])\n",
    "plt.show()\n",
    "print(f'The label is - {labels[test_Y[5][0]]}')\n",
    "print(f'Model predicted - {labels[np.argmax(preds[5])]}')"
   ]
  },
  {
   "cell_type": "code",
   "execution_count": 43,
   "id": "joined-perception",
   "metadata": {},
   "outputs": [
    {
     "name": "stdout",
     "output_type": "stream",
     "text": [
      "10000/10000 - 5s - loss: 1.7298 - accuracy: 0.7303\n"
     ]
    },
    {
     "data": {
      "text/plain": [
       "[1.729818611907959, 0.7303]"
      ]
     },
     "execution_count": 43,
     "metadata": {},
     "output_type": "execute_result"
    }
   ],
   "source": [
    "#model performance\n",
    "model.evaluate(test_X, test_Y,verbose=2)"
   ]
  }
 ],
 "metadata": {
  "kernelspec": {
   "display_name": "Python 3",
   "language": "python",
   "name": "python3"
  },
  "language_info": {
   "codemirror_mode": {
    "name": "ipython",
    "version": 3
   },
   "file_extension": ".py",
   "mimetype": "text/x-python",
   "name": "python",
   "nbconvert_exporter": "python",
   "pygments_lexer": "ipython3",
   "version": "3.6.9"
  }
 },
 "nbformat": 4,
 "nbformat_minor": 5
}
