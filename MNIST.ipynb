{
 "cells": [
  {
   "cell_type": "code",
   "execution_count": 1,
   "id": "powered-monthly",
   "metadata": {},
   "outputs": [],
   "source": [
    "#importing packages\n",
    "from tensorflow import keras\n",
    "from tensorflow.keras import layers\n",
    "from sklearn.model_selection import train_test_split\n",
    "import matplotlib.pyplot as plt, pandas as pd, numpy as np"
   ]
  },
  {
   "cell_type": "code",
   "execution_count": 2,
   "id": "ranking-polymer",
   "metadata": {},
   "outputs": [],
   "source": [
    "#loading dataset\n",
    "mnist = keras.datasets.mnist\n",
    "(train_X, train_Y), (test_X, test_Y) = mnist.load_data()"
   ]
  },
  {
   "cell_type": "code",
   "execution_count": 3,
   "id": "instrumental-excess",
   "metadata": {},
   "outputs": [
    {
     "name": "stdout",
     "output_type": "stream",
     "text": [
      "Training Data - (54000, 28, 28)\n",
      "Validation Data - (6000, 28, 28)\n",
      "Test Data - (10000, 28, 28)\n"
     ]
    }
   ],
   "source": [
    "#splitting training data into training & validation set\n",
    "#stratify retains the ratio of classes\n",
    "train_X, val_X, train_Y, val_Y = train_test_split(train_X, train_Y, test_size=0.1, stratify=train_Y, random_state=40)\n",
    "\n",
    "\n",
    "print(f\"Training Data - {train_X.shape}\")\n",
    "print(f\"Validation Data - {val_X.shape}\")\n",
    "print(f\"Test Data - {test_X.shape}\")"
   ]
  },
  {
   "cell_type": "code",
   "execution_count": 4,
   "id": "deluxe-involvement",
   "metadata": {},
   "outputs": [
    {
     "data": {
      "image/png": "[encoded data removed]",
      "text/plain": [
       "<Figure size 432x288 with 1 Axes>"
      ]
     },
     "metadata": {
      "needs_background": "light"
     },
     "output_type": "display_data"
    },
    {
     "name": "stdout",
     "output_type": "stream",
     "text": [
      "The letter is - 1\n"
     ]
    }
   ],
   "source": [
    "#displaying one image\n",
    "plt.figure()\n",
    "plt.imshow(train_X[0])\n",
    "plt.show()\n",
    "print(f\"The letter is - {train_Y[0]}\")"
   ]
  },
  {
   "cell_type": "code",
   "execution_count": 5,
   "id": "equipped-necessity",
   "metadata": {},
   "outputs": [],
   "source": [
    "#setting up the network\n",
    "model = keras.Sequential(\n",
    "    [\n",
    "        layers.Flatten(input_shape=(28,28)), #flatten the matrix in 1D\n",
    "        layers.Dense(units=128, activation='relu'),\n",
    "        layers.Dropout(rate=0.3),\n",
    "        layers.BatchNormalization(),\n",
    "        layers.Dense(units=50, activation='relu'),\n",
    "        layers.Dropout(rate=0.3),\n",
    "        layers.BatchNormalization(),\n",
    "        layers.Dense(units=10),\n",
    "        layers.Softmax()\n",
    "    ]\n",
    ")\n",
    "\n",
    "#compiling model\n",
    "model.compile(optimizer='adam', loss=keras.losses.SparseCategoricalCrossentropy(from_logits=True),\n",
    "              metrics=['accuracy'])\n",
    "\n",
    "#stops training if the validation accuracy dosent\n",
    "#improve by atleast 0.01 in 10 epochs\n",
    "early_stopping = keras.callbacks.EarlyStopping(patience=10, min_delta=0.01, restore_best_weights=True)"
   ]
  },
  {
   "cell_type": "code",
   "execution_count": 6,
   "id": "mounted-journal",
   "metadata": {},
   "outputs": [
    {
     "name": "stdout",
     "output_type": "stream",
     "text": [
      "Train on 54000 samples, validate on 6000 samples\n",
      "Epoch 1/200\n",
      "54000/54000 [==============================] - 2s 32us/sample - loss: 1.6981 - accuracy: 0.8231 - val_loss: 1.5393 - val_accuracy: 0.9313\n",
      "Epoch 2/200\n",
      "54000/54000 [==============================] - 1s 16us/sample - loss: 1.5529 - accuracy: 0.9247 - val_loss: 1.5156 - val_accuracy: 0.9507\n",
      "Epoch 3/200\n",
      "54000/54000 [==============================] - 1s 17us/sample - loss: 1.5324 - accuracy: 0.9386 - val_loss: 1.5074 - val_accuracy: 0.9568\n",
      "Epoch 4/200\n",
      "54000/54000 [==============================] - 1s 16us/sample - loss: 1.5207 - accuracy: 0.9476 - val_loss: 1.5012 - val_accuracy: 0.9622\n",
      "Epoch 5/200\n",
      "54000/54000 [==============================] - 1s 17us/sample - loss: 1.5151 - accuracy: 0.9512 - val_loss: 1.4995 - val_accuracy: 0.9628\n",
      "Epoch 6/200\n",
      "54000/54000 [==============================] - 1s 17us/sample - loss: 1.5110 - accuracy: 0.9545 - val_loss: 1.4963 - val_accuracy: 0.9660\n",
      "Epoch 7/200\n",
      "54000/54000 [==============================] - 1s 16us/sample - loss: 1.5073 - accuracy: 0.9573 - val_loss: 1.4965 - val_accuracy: 0.9657\n",
      "Epoch 8/200\n",
      "54000/54000 [==============================] - 1s 17us/sample - loss: 1.5053 - accuracy: 0.9591 - val_loss: 1.4962 - val_accuracy: 0.9650\n",
      "Epoch 9/200\n",
      "54000/54000 [==============================] - 1s 16us/sample - loss: 1.5032 - accuracy: 0.9609 - val_loss: 1.4935 - val_accuracy: 0.9688\n",
      "Epoch 10/200\n",
      "54000/54000 [==============================] - 1s 15us/sample - loss: 1.5019 - accuracy: 0.9618 - val_loss: 1.4935 - val_accuracy: 0.9692\n",
      "Epoch 11/200\n",
      "54000/54000 [==============================] - 1s 15us/sample - loss: 1.5000 - accuracy: 0.9632 - val_loss: 1.4948 - val_accuracy: 0.9667\n",
      "Epoch 12/200\n",
      "54000/54000 [==============================] - 1s 15us/sample - loss: 1.4987 - accuracy: 0.9647 - val_loss: 1.4922 - val_accuracy: 0.9695\n",
      "Epoch 13/200\n",
      "54000/54000 [==============================] - 1s 15us/sample - loss: 1.4988 - accuracy: 0.9639 - val_loss: 1.4927 - val_accuracy: 0.9682\n",
      "Epoch 14/200\n",
      "54000/54000 [==============================] - 1s 16us/sample - loss: 1.4969 - accuracy: 0.9661 - val_loss: 1.4933 - val_accuracy: 0.9688\n"
     ]
    }
   ],
   "source": [
    "#training model\n",
    "history = model.fit(\n",
    "    train_X, train_Y,\n",
    "    validation_data=(val_X, val_Y),\n",
    "    batch_size=200,\n",
    "    epochs=200,\n",
    "    callbacks=[early_stopping])"
   ]
  },
  {
   "cell_type": "code",
   "execution_count": 7,
   "id": "advisory-designation",
   "metadata": {},
   "outputs": [
    {
     "name": "stdout",
     "output_type": "stream",
     "text": [
      "Minimum validation loss: 1.4922278920809429\n"
     ]
    },
    {
     "data": {
      "image/png": "[encoded data removed]",
      "text/plain": [
       "<Figure size 432x288 with 1 Axes>"
      ]
     },
     "metadata": {
      "needs_background": "light"
     },
     "output_type": "display_data"
    }
   ],
   "source": [
    "#learning curves\n",
    "history_df = pd.DataFrame(history.history)\n",
    "history_df.loc[:, ['loss', 'val_loss']].plot();\n",
    "print(\"Minimum validation loss: {}\".format(history_df['val_loss'].min()))"
   ]
  },
  {
   "cell_type": "code",
   "execution_count": 8,
   "id": "extreme-wireless",
   "metadata": {},
   "outputs": [
    {
     "data": {
      "image/png": "[encoded data removed]",
      "text/plain": [
       "<Figure size 432x288 with 1 Axes>"
      ]
     },
     "metadata": {
      "needs_background": "light"
     },
     "output_type": "display_data"
    },
    {
     "name": "stdout",
     "output_type": "stream",
     "text": [
      "The model predicted - 9\n"
     ]
    }
   ],
   "source": [
    "#predicting on test dataset\n",
    "preds = model.predict(test_X)\n",
    "\n",
    "plt.figure()\n",
    "plt.imshow(test_X[7])\n",
    "plt.show()\n",
    "print(f\"The model predicted - {np.argmax(preds[7])}\")"
   ]
  },
  {
   "cell_type": "code",
   "execution_count": 10,
   "id": "sufficient-technology",
   "metadata": {},
   "outputs": [
    {
     "name": "stdout",
     "output_type": "stream",
     "text": [
      "10000/1 - 0s - loss: 1.4810 - accuracy: 0.9631\n"
     ]
    },
    {
     "data": {
      "text/plain": [
       "[1.500489412689209, 0.9631]"
      ]
     },
     "execution_count": 10,
     "metadata": {},
     "output_type": "execute_result"
    }
   ],
   "source": [
    "#model performance\n",
    "model.evaluate(test_X, test_Y, verbose=2)"
   ]
  }
 ],
 "metadata": {
  "kernelspec": {
   "display_name": "Python 3",
   "language": "python",
   "name": "python3"
  },
  "language_info": {
   "codemirror_mode": {
    "name": "ipython",
    "version": 3
   },
   "file_extension": ".py",
   "mimetype": "text/x-python",
   "name": "python",
   "nbconvert_exporter": "python",
   "pygments_lexer": "ipython3",
   "version": "3.6.9"
  }
 },
 "nbformat": 4,
 "nbformat_minor": 5
}
