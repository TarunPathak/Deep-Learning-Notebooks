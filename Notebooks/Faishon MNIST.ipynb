{
 "cells": [
  {
   "cell_type": "code",
   "execution_count": 100,
   "id": "silent-johnston",
   "metadata": {},
   "outputs": [],
   "source": [
    "#importing libraries\n",
    "from tensorflow import keras\n",
    "from tensorflow.keras import layers\n",
    "from sklearn.model_selection import train_test_split\n",
    "import matplotlib.pyplot as plt, pandas as pd, numpy as np"
   ]
  },
  {
   "cell_type": "code",
   "execution_count": 101,
   "id": "rapid-siemens",
   "metadata": {},
   "outputs": [],
   "source": [
    "#loading dataset\n",
    "fmnist = keras.datasets.fashion_mnist\n",
    "(train_X, train_Y), (test_X, test_Y) = fmnist.load_data()"
   ]
  },
  {
   "cell_type": "code",
   "execution_count": 102,
   "id": "material-mountain",
   "metadata": {},
   "outputs": [
    {
     "name": "stdout",
     "output_type": "stream",
     "text": [
      "Training Data - (54000, 28, 28)\n",
      "Validation Data - (6000, 28, 28)\n",
      "Test Data - (10000, 28, 28)\n"
     ]
    }
   ],
   "source": [
    "#splitting training set into training & validation set\n",
    "#10% data is kept for validation\n",
    "#stratify ensures equl class distribution (by ratio)\n",
    "train_X, val_X, train_Y, val_Y = train_test_split(train_X, train_Y, test_size=0.1, stratify= train_Y, random_state=10)\n",
    "\n",
    "#displaying data shapes\n",
    "print(f'Training Data - {train_X.shape}')\n",
    "print(f'Validation Data - {val_X.shape}')\n",
    "print(f'Test Data - {test_X.shape}')"
   ]
  },
  {
   "cell_type": "code",
   "execution_count": 103,
   "id": "particular-breakfast",
   "metadata": {},
   "outputs": [],
   "source": [
    "#dictionary to hold class labels\n",
    "labels ={0:'T-shirt/top',\n",
    "        1:'Trouser',\n",
    "        2:'Pullover',\n",
    "        3:'Dress',\n",
    "        4:'Coat',\n",
    "        5:'Sandal',\n",
    "        6:'Shirt',\n",
    "        7:'Sneaker',\n",
    "        8:'Bag',\n",
    "        9:'Ankle boot'}"
   ]
  },
  {
   "cell_type": "code",
   "execution_count": 104,
   "id": "forbidden-spare",
   "metadata": {},
   "outputs": [
    {
     "data": {
      "image/png": "[encoded data removed]",
      "text/plain": [
       "<Figure size 432x288 with 1 Axes>"
      ]
     },
     "metadata": {
      "needs_background": "light"
     },
     "output_type": "display_data"
    },
    {
     "name": "stdout",
     "output_type": "stream",
     "text": [
      "The image is of Trouser\n"
     ]
    }
   ],
   "source": [
    "#diplaying image to check\n",
    "#if data has load correctly\n",
    "plt.figure()\n",
    "plt.imshow(train_X[0])\n",
    "plt.show()\n",
    "print(f'The image is of {labels[train_Y[0]]}')"
   ]
  },
  {
   "cell_type": "code",
   "execution_count": 105,
   "id": "pursuant-stand",
   "metadata": {},
   "outputs": [],
   "source": [
    "#classification network\n",
    "model = keras.Sequential([\n",
    "    layers.Flatten(input_shape=(28,28)), #flattens the array into 1D\n",
    "    layers.Dense(units=200, activation='relu'),\n",
    "    layers.Dropout(rate=0.3), #30% dropout - this helps avoid overfitting\n",
    "    layers.BatchNormalization(),\n",
    "    layers.Dense(units=10), #same as no. of classes\n",
    "    layers.Softmax(), # for probability distribution of output\n",
    "])\n",
    "\n",
    "#compile options\n",
    "model.compile(optimizer='adam', loss=keras.losses.SparseCategoricalCrossentropy(from_logits=True),\n",
    "             metrics=['accuracy'])\n",
    "\n",
    "#early stopping\n",
    "#to avoid overfitting\n",
    "#this will stop training if validation accuracy dosent imporve by 0.01 in 10 epochs\n",
    "early_stopping = keras.callbacks.EarlyStopping(patience=15, min_delta=0.001, restore_best_weights=True)"
   ]
  },
  {
   "cell_type": "code",
   "execution_count": 106,
   "id": "appropriate-messaging",
   "metadata": {},
   "outputs": [
    {
     "name": "stdout",
     "output_type": "stream",
     "text": [
      "Train on 54000 samples, validate on 6000 samples\n",
      "Epoch 1/100\n",
      "54000/54000 [==============================] - 1s 19us/sample - loss: 1.6816 - accuracy: 0.8016 - val_loss: 1.6356 - val_accuracy: 0.8387\n",
      "Epoch 2/100\n",
      "54000/54000 [==============================] - 1s 13us/sample - loss: 1.6238 - accuracy: 0.8488 - val_loss: 1.6183 - val_accuracy: 0.8510\n",
      "Epoch 3/100\n",
      "54000/54000 [==============================] - 1s 13us/sample - loss: 1.6147 - accuracy: 0.8566 - val_loss: 1.6149 - val_accuracy: 0.8523\n",
      "Epoch 4/100\n",
      "54000/54000 [==============================] - 1s 12us/sample - loss: 1.6085 - accuracy: 0.8613 - val_loss: 1.6136 - val_accuracy: 0.8515\n",
      "Epoch 5/100\n",
      "54000/54000 [==============================] - 1s 13us/sample - loss: 1.6035 - accuracy: 0.8647 - val_loss: 1.6109 - val_accuracy: 0.8567\n",
      "Epoch 6/100\n",
      "54000/54000 [==============================] - 1s 13us/sample - loss: 1.6001 - accuracy: 0.8674 - val_loss: 1.6022 - val_accuracy: 0.8652\n",
      "Epoch 7/100\n",
      "54000/54000 [==============================] - 1s 12us/sample - loss: 1.5979 - accuracy: 0.8693 - val_loss: 1.6093 - val_accuracy: 0.8553\n",
      "Epoch 8/100\n",
      "54000/54000 [==============================] - 1s 12us/sample - loss: 1.5941 - accuracy: 0.8727 - val_loss: 1.5966 - val_accuracy: 0.8697\n",
      "Epoch 9/100\n",
      "54000/54000 [==============================] - 1s 12us/sample - loss: 1.5918 - accuracy: 0.8755 - val_loss: 1.5971 - val_accuracy: 0.8663\n",
      "Epoch 10/100\n",
      "54000/54000 [==============================] - 1s 13us/sample - loss: 1.5896 - accuracy: 0.8769 - val_loss: 1.5935 - val_accuracy: 0.8722\n",
      "Epoch 11/100\n",
      "54000/54000 [==============================] - 1s 13us/sample - loss: 1.5907 - accuracy: 0.8758 - val_loss: 1.5900 - val_accuracy: 0.8738\n",
      "Epoch 12/100\n",
      "54000/54000 [==============================] - 1s 12us/sample - loss: 1.5911 - accuracy: 0.8749 - val_loss: 1.5923 - val_accuracy: 0.8705\n",
      "Epoch 13/100\n",
      "54000/54000 [==============================] - 1s 12us/sample - loss: 1.5872 - accuracy: 0.8788 - val_loss: 1.5910 - val_accuracy: 0.8730\n",
      "Epoch 14/100\n",
      "54000/54000 [==============================] - 1s 12us/sample - loss: 1.5858 - accuracy: 0.8792 - val_loss: 1.5979 - val_accuracy: 0.8630\n",
      "Epoch 15/100\n",
      "54000/54000 [==============================] - 1s 12us/sample - loss: 1.5847 - accuracy: 0.8797 - val_loss: 1.5850 - val_accuracy: 0.8798\n",
      "Epoch 16/100\n",
      "54000/54000 [==============================] - 1s 12us/sample - loss: 1.5821 - accuracy: 0.8820 - val_loss: 1.5837 - val_accuracy: 0.8800\n",
      "Epoch 17/100\n",
      "54000/54000 [==============================] - 1s 12us/sample - loss: 1.5808 - accuracy: 0.8836 - val_loss: 1.5837 - val_accuracy: 0.8802\n",
      "Epoch 18/100\n",
      "54000/54000 [==============================] - 1s 12us/sample - loss: 1.5809 - accuracy: 0.8827 - val_loss: 1.5849 - val_accuracy: 0.8763\n",
      "Epoch 19/100\n",
      "54000/54000 [==============================] - 1s 13us/sample - loss: 1.5797 - accuracy: 0.8837 - val_loss: 1.5927 - val_accuracy: 0.8685\n",
      "Epoch 20/100\n",
      "54000/54000 [==============================] - 1s 13us/sample - loss: 1.5791 - accuracy: 0.8846 - val_loss: 1.5901 - val_accuracy: 0.8728\n",
      "Epoch 21/100\n",
      "54000/54000 [==============================] - 1s 12us/sample - loss: 1.5789 - accuracy: 0.8850 - val_loss: 1.5858 - val_accuracy: 0.8752\n",
      "Epoch 22/100\n",
      "54000/54000 [==============================] - 1s 12us/sample - loss: 1.5764 - accuracy: 0.8875 - val_loss: 1.5877 - val_accuracy: 0.8773\n",
      "Epoch 23/100\n",
      "54000/54000 [==============================] - 1s 12us/sample - loss: 1.5769 - accuracy: 0.8866 - val_loss: 1.5851 - val_accuracy: 0.8753\n",
      "Epoch 24/100\n",
      "54000/54000 [==============================] - 1s 13us/sample - loss: 1.5790 - accuracy: 0.8846 - val_loss: 1.5827 - val_accuracy: 0.8808\n",
      "Epoch 25/100\n",
      "54000/54000 [==============================] - 1s 12us/sample - loss: 1.5763 - accuracy: 0.8867 - val_loss: 1.5892 - val_accuracy: 0.8720\n",
      "Epoch 26/100\n",
      "54000/54000 [==============================] - 1s 12us/sample - loss: 1.5737 - accuracy: 0.8897 - val_loss: 1.5789 - val_accuracy: 0.8845\n",
      "Epoch 27/100\n",
      "54000/54000 [==============================] - 1s 12us/sample - loss: 1.5735 - accuracy: 0.8903 - val_loss: 1.5788 - val_accuracy: 0.8837\n",
      "Epoch 28/100\n",
      "54000/54000 [==============================] - 1s 12us/sample - loss: 1.5728 - accuracy: 0.8902 - val_loss: 1.5797 - val_accuracy: 0.8830\n",
      "Epoch 29/100\n",
      "54000/54000 [==============================] - 1s 12us/sample - loss: 1.5742 - accuracy: 0.8896 - val_loss: 1.5850 - val_accuracy: 0.8775\n",
      "Epoch 30/100\n",
      "54000/54000 [==============================] - 1s 12us/sample - loss: 1.5720 - accuracy: 0.8915 - val_loss: 1.5799 - val_accuracy: 0.8825\n",
      "Epoch 31/100\n",
      "54000/54000 [==============================] - 1s 14us/sample - loss: 1.5719 - accuracy: 0.8910 - val_loss: 1.5821 - val_accuracy: 0.8803\n",
      "Epoch 32/100\n",
      "54000/54000 [==============================] - 1s 12us/sample - loss: 1.5702 - accuracy: 0.8928 - val_loss: 1.5821 - val_accuracy: 0.8810\n",
      "Epoch 33/100\n",
      "54000/54000 [==============================] - 1s 13us/sample - loss: 1.5714 - accuracy: 0.8917 - val_loss: 1.6013 - val_accuracy: 0.8610\n",
      "Epoch 34/100\n",
      "54000/54000 [==============================] - 1s 13us/sample - loss: 1.5712 - accuracy: 0.8920 - val_loss: 1.5810 - val_accuracy: 0.8800\n",
      "Epoch 35/100\n",
      "54000/54000 [==============================] - 1s 13us/sample - loss: 1.5709 - accuracy: 0.8929 - val_loss: 1.5827 - val_accuracy: 0.8787\n",
      "Epoch 36/100\n",
      "54000/54000 [==============================] - 1s 13us/sample - loss: 1.5711 - accuracy: 0.8922 - val_loss: 1.5823 - val_accuracy: 0.8792\n",
      "Epoch 37/100\n",
      "54000/54000 [==============================] - 1s 13us/sample - loss: 1.5701 - accuracy: 0.8931 - val_loss: 1.5845 - val_accuracy: 0.8783\n",
      "Epoch 38/100\n",
      "54000/54000 [==============================] - 1s 12us/sample - loss: 1.5675 - accuracy: 0.8955 - val_loss: 1.5780 - val_accuracy: 0.8840\n",
      "Epoch 39/100\n",
      "54000/54000 [==============================] - 1s 13us/sample - loss: 1.5695 - accuracy: 0.8940 - val_loss: 1.5866 - val_accuracy: 0.8755\n",
      "Epoch 40/100\n",
      "54000/54000 [==============================] - 1s 13us/sample - loss: 1.5703 - accuracy: 0.8926 - val_loss: 1.5798 - val_accuracy: 0.8828\n",
      "Epoch 41/100\n",
      "54000/54000 [==============================] - 1s 13us/sample - loss: 1.5675 - accuracy: 0.8956 - val_loss: 1.5828 - val_accuracy: 0.8778\n"
     ]
    }
   ],
   "source": [
    "#training\n",
    "history = model.fit(\n",
    "    train_X, train_Y,\n",
    "    validation_data = (val_X, val_Y),\n",
    "    epochs=100,\n",
    "    batch_size=200,\n",
    "    callbacks = [early_stopping]\n",
    ")"
   ]
  },
  {
   "cell_type": "code",
   "execution_count": 107,
   "id": "egyptian-photograph",
   "metadata": {},
   "outputs": [
    {
     "name": "stdout",
     "output_type": "stream",
     "text": [
      "Minimum validation loss: 1.5780033866564434\n"
     ]
    },
    {
     "data": {
      "image/png": "[encoded data removed]",
      "text/plain": [
       "<Figure size 432x288 with 1 Axes>"
      ]
     },
     "metadata": {
      "needs_background": "light"
     },
     "output_type": "display_data"
    }
   ],
   "source": [
    "#learning curves\n",
    "history_df = pd.DataFrame(history.history)\n",
    "history_df.loc[:, ['loss', 'val_loss']].plot();\n",
    "print(\"Minimum validation loss: {}\".format(history_df['val_loss'].min()))"
   ]
  },
  {
   "cell_type": "code",
   "execution_count": 108,
   "id": "hispanic-chart",
   "metadata": {},
   "outputs": [
    {
     "data": {
      "image/png": "[encoded data removed]",
      "text/plain": [
       "<Figure size 432x288 with 1 Axes>"
      ]
     },
     "metadata": {
      "needs_background": "light"
     },
     "output_type": "display_data"
    },
    {
     "name": "stdout",
     "output_type": "stream",
     "text": [
      "The image is of - Trouser\n",
      "The model predicted - Trouser\n"
     ]
    }
   ],
   "source": [
    "#getting predictions\n",
    "preds = model.predict(test_X)\n",
    "\n",
    "plt.figure()\n",
    "plt.imshow(test_X[2])\n",
    "plt.show()\n",
    "print(f'The image is of - {labels[test_Y[2]]}')\n",
    "print(f'The model predicted - {labels[np.argmax(preds[2])]}')"
   ]
  },
  {
   "cell_type": "code",
   "execution_count": 109,
   "id": "sacred-dublin",
   "metadata": {},
   "outputs": [
    {
     "name": "stdout",
     "output_type": "stream",
     "text": [
      "10000/10000 - 1s - loss: 1.5893 - accuracy: 0.8715\n"
     ]
    },
    {
     "data": {
      "text/plain": [
       "[1.589319027900696, 0.8715]"
      ]
     },
     "execution_count": 109,
     "metadata": {},
     "output_type": "execute_result"
    }
   ],
   "source": [
    "#model performance\n",
    "model.evaluate(test_X, test_Y, verbose=2)"
   ]
  }
 ],
 "metadata": {
  "kernelspec": {
   "display_name": "Python 3",
   "language": "python",
   "name": "python3"
  },
  "language_info": {
   "codemirror_mode": {
    "name": "ipython",
    "version": 3
   },
   "file_extension": ".py",
   "mimetype": "text/x-python",
   "name": "python",
   "nbconvert_exporter": "python",
   "pygments_lexer": "ipython3",
   "version": "3.6.9"
  }
 },
 "nbformat": 4,
 "nbformat_minor": 5
}
